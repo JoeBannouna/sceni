{
 "cells": [
  {
   "cell_type": "code",
   "execution_count": 1,
   "metadata": {},
   "outputs": [
    {
     "name": "stdout",
     "output_type": "stream",
     "text": [
      "Count of saturated pixels:  314\n",
      "Total image pixel count:  2895360\n",
      "Count of saturated pixels:  33\n",
      "Total image pixel count:  2895360\n",
      "200\n"
     ]
    },
    {
     "name": "stderr",
     "output_type": "stream",
     "text": [
      "WARNING: FITSFixedWarning: 'datfix' made the change 'Set MJD-OBS to 59846.552361 from DATE-OBS'. [astropy.wcs.wcs]\n",
      "WARNING: FITSFixedWarning: 'datfix' made the change 'Set MJD-OBS to 59846.559016 from DATE-OBS'. [astropy.wcs.wcs]\n"
     ]
    },
    {
     "data": {
      "text/plain": [
       "array([[ 135.,  145.,  142., ...,  140.,  133.,  135.],\n",
       "       [ 280.,  276.,  283., ...,  546.,  286.,  135.],\n",
       "       [ 706.,  697.,  700., ...,  569.,  272.,  140.],\n",
       "       ...,\n",
       "       [3434., 3423., 3453., ...,  705.,  421.,  138.],\n",
       "       [3464., 3478., 3504., ...,  702.,  423.,  133.],\n",
       "       [3593., 3581., 3495., ...,  718.,  412.,  136.]], dtype='>f4')"
      ]
     },
     "execution_count": 1,
     "metadata": {},
     "output_type": "execute_result"
    }
   ],
   "source": [
    "from astrosceni.image import Image\n",
    "from astrosceni.mufinder import MuFinder\n",
    "\n",
    "nb = Image('data/rim_Ha_wcs.fits')\n",
    "bb = Image('data/rim_R_wcs.fits')\n",
    "\n",
    "finder = MuFinder(nb, bb, mu_range=(0, 2), mu_resolution=0.01)"
   ]
  },
  {
   "cell_type": "code",
   "execution_count": 5,
   "metadata": {},
   "outputs": [
    {
     "ename": "TypeError",
     "evalue": "unsupported operand type(s) for *: 'NoneType' and 'float'",
     "output_type": "error",
     "traceback": [
      "\u001b[0;31m---------------------------------------------------------------------------\u001b[0m",
      "\u001b[0;31mTypeError\u001b[0m                                 Traceback (most recent call last)",
      "Cell \u001b[0;32mIn[5], line 1\u001b[0m\n\u001b[0;32m----> 1\u001b[0m res_img \u001b[38;5;241m=\u001b[39m \u001b[43mfinder\u001b[49m\u001b[38;5;241;43m.\u001b[39;49m\u001b[43mgetResultImage\u001b[49m\u001b[43m(\u001b[49m\u001b[43m)\u001b[49m\n",
      "File \u001b[0;32m~/Desktop/code/summer-scholarship/paddy/astrosceni/mufinder.py:74\u001b[0m, in \u001b[0;36mMuFinder.getResultImage\u001b[0;34m(self)\u001b[0m\n\u001b[1;32m     72\u001b[0m \u001b[38;5;28;01mdef\u001b[39;00m \u001b[38;5;21mgetResultImage\u001b[39m(\u001b[38;5;28mself\u001b[39m):\n\u001b[1;32m     73\u001b[0m     optimal_mu \u001b[38;5;241m=\u001b[39m \u001b[38;5;28mself\u001b[39m\u001b[38;5;241m.\u001b[39mgetOptimalMu()\n\u001b[0;32m---> 74\u001b[0m     \u001b[38;5;28;01mreturn\u001b[39;00m \u001b[43mImage\u001b[49m\u001b[38;5;241;43m.\u001b[39;49m\u001b[43msubtract\u001b[49m\u001b[43m(\u001b[49m\u001b[38;5;28;43mself\u001b[39;49m\u001b[38;5;241;43m.\u001b[39;49m\u001b[43mnarrow_band_image\u001b[49m\u001b[43m,\u001b[49m\u001b[43m \u001b[49m\u001b[38;5;28;43mself\u001b[39;49m\u001b[38;5;241;43m.\u001b[39;49m\u001b[43mbroad_band_image\u001b[49m\u001b[43m,\u001b[49m\u001b[43m \u001b[49m\u001b[43moptimal_mu\u001b[49m\u001b[43m)\u001b[49m\n",
      "File \u001b[0;32m~/Desktop/code/summer-scholarship/paddy/astrosceni/image.py:288\u001b[0m, in \u001b[0;36mImage.subtract\u001b[0;34m(NB_image, BB_image, mu)\u001b[0m\n\u001b[1;32m    285\u001b[0m \u001b[38;5;28;01mif\u001b[39;00m NB_image\u001b[38;5;241m.\u001b[39mgetImageData()\u001b[38;5;241m.\u001b[39mshape \u001b[38;5;241m!=\u001b[39m BB_image\u001b[38;5;241m.\u001b[39mgetImageData()\u001b[38;5;241m.\u001b[39mshape: \u001b[38;5;28;01mraise\u001b[39;00m \u001b[38;5;167;01mValueError\u001b[39;00m(\u001b[38;5;124m'\u001b[39m\u001b[38;5;124mImages must be the same size\u001b[39m\u001b[38;5;124m'\u001b[39m)\n\u001b[1;32m    287\u001b[0m result \u001b[38;5;241m=\u001b[39m copy\u001b[38;5;241m.\u001b[39mdeepcopy(NB_image)\n\u001b[0;32m--> 288\u001b[0m result\u001b[38;5;241m.\u001b[39msetImageData(NB_image\u001b[38;5;241m.\u001b[39mgetImageData() \u001b[38;5;241m-\u001b[39m \u001b[43mmu\u001b[49m\u001b[38;5;241;43m*\u001b[39;49m\u001b[43mBB_image\u001b[49m\u001b[38;5;241;43m.\u001b[39;49m\u001b[43mgetImageData\u001b[49m\u001b[43m(\u001b[49m\u001b[43m)\u001b[49m)\n\u001b[1;32m    289\u001b[0m \u001b[38;5;66;03m# result.cutout_wcs = NB_image.getWCS()\u001b[39;00m\n\u001b[1;32m    290\u001b[0m \u001b[38;5;28;01mreturn\u001b[39;00m result\n",
      "\u001b[0;31mTypeError\u001b[0m: unsupported operand type(s) for *: 'NoneType' and 'float'"
     ]
    }
   ],
   "source": [
    "res_img = finder.getResultImage()"
   ]
  },
  {
   "cell_type": "code",
   "execution_count": null,
   "metadata": {},
   "outputs": [
    {
     "data": {
      "text/plain": [
       "0.2"
      ]
     },
     "execution_count": 6,
     "metadata": {},
     "output_type": "execute_result"
    }
   ],
   "source": [
    "finder.getOptimalMu()"
   ]
  }
 ],
 "metadata": {
  "kernelspec": {
   "display_name": "Python 3 (ipykernel)",
   "language": "python",
   "name": "python3"
  },
  "language_info": {
   "codemirror_mode": {
    "name": "ipython",
    "version": 3
   },
   "file_extension": ".py",
   "mimetype": "text/x-python",
   "name": "python",
   "nbconvert_exporter": "python",
   "pygments_lexer": "ipython3",
   "version": "3.11.9"
  }
 },
 "nbformat": 4,
 "nbformat_minor": 2
}
