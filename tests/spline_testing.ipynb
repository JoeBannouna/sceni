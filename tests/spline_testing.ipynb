{
 "cells": [
  {
   "cell_type": "code",
   "execution_count": 3,
   "metadata": {},
   "outputs": [
    {
     "ename": "ValueError",
     "evalue": "Need at least 6 knots for degree 2",
     "output_type": "error",
     "traceback": [
      "\u001b[1;31m---------------------------------------------------------------------------\u001b[0m",
      "\u001b[1;31mValueError\u001b[0m                                Traceback (most recent call last)",
      "Cell \u001b[1;32mIn[3], line 18\u001b[0m\n\u001b[0;32m     14\u001b[0m \u001b[38;5;66;03m# 2. Spline without second derivative continuity (forcing the second derivative at knots to be unequal)\u001b[39;00m\n\u001b[0;32m     15\u001b[0m \u001b[38;5;66;03m# We simulate this by forcing an unnatural boundary condition (adjusting the spline manually)\u001b[39;00m\n\u001b[0;32m     16\u001b[0m cs_kink \u001b[38;5;241m=\u001b[39m CubicSpline(x, y, bc_type\u001b[38;5;241m=\u001b[39m\u001b[38;5;124m'\u001b[39m\u001b[38;5;124mnot-a-knot\u001b[39m\u001b[38;5;124m'\u001b[39m)\n\u001b[1;32m---> 18\u001b[0m bspline \u001b[38;5;241m=\u001b[39m \u001b[43mBSpline\u001b[49m\u001b[43m(\u001b[49m\u001b[43mx\u001b[49m\u001b[43m,\u001b[49m\u001b[43m \u001b[49m\u001b[43my\u001b[49m\u001b[43m,\u001b[49m\u001b[43m \u001b[49m\u001b[43mk\u001b[49m\u001b[38;5;241;43m=\u001b[39;49m\u001b[38;5;241;43m2\u001b[39;49m\u001b[43m)\u001b[49m\n\u001b[0;32m     20\u001b[0m \u001b[38;5;66;03m# Generate x values for smooth plotting\u001b[39;00m\n\u001b[0;32m     21\u001b[0m x_plot \u001b[38;5;241m=\u001b[39m np\u001b[38;5;241m.\u001b[39mlinspace(\u001b[38;5;241m0\u001b[39m, \u001b[38;5;241m3\u001b[39m, \u001b[38;5;241m100\u001b[39m)\n",
      "File \u001b[1;32m~\\AppData\\Local\\Packages\\PythonSoftwareFoundation.Python.3.13_qbz5n2kfra8p0\\LocalCache\\local-packages\\Python313\\site-packages\\scipy\\interpolate\\_bsplines.py:240\u001b[0m, in \u001b[0;36mBSpline.__init__\u001b[1;34m(self, t, c, k, extrapolate, axis)\u001b[0m\n\u001b[0;32m    238\u001b[0m     \u001b[38;5;28;01mraise\u001b[39;00m \u001b[38;5;167;01mValueError\u001b[39;00m(\u001b[38;5;124m\"\u001b[39m\u001b[38;5;124mKnot vector must be one-dimensional.\u001b[39m\u001b[38;5;124m\"\u001b[39m)\n\u001b[0;32m    239\u001b[0m \u001b[38;5;28;01mif\u001b[39;00m n \u001b[38;5;241m<\u001b[39m \u001b[38;5;28mself\u001b[39m\u001b[38;5;241m.\u001b[39mk \u001b[38;5;241m+\u001b[39m \u001b[38;5;241m1\u001b[39m:\n\u001b[1;32m--> 240\u001b[0m     \u001b[38;5;28;01mraise\u001b[39;00m \u001b[38;5;167;01mValueError\u001b[39;00m(\u001b[38;5;124m\"\u001b[39m\u001b[38;5;124mNeed at least \u001b[39m\u001b[38;5;132;01m%d\u001b[39;00m\u001b[38;5;124m knots for degree \u001b[39m\u001b[38;5;132;01m%d\u001b[39;00m\u001b[38;5;124m\"\u001b[39m \u001b[38;5;241m%\u001b[39m\n\u001b[0;32m    241\u001b[0m                      (\u001b[38;5;241m2\u001b[39m\u001b[38;5;241m*\u001b[39mk \u001b[38;5;241m+\u001b[39m \u001b[38;5;241m2\u001b[39m, k))\n\u001b[0;32m    242\u001b[0m \u001b[38;5;28;01mif\u001b[39;00m (np\u001b[38;5;241m.\u001b[39mdiff(\u001b[38;5;28mself\u001b[39m\u001b[38;5;241m.\u001b[39mt) \u001b[38;5;241m<\u001b[39m \u001b[38;5;241m0\u001b[39m)\u001b[38;5;241m.\u001b[39many():\n\u001b[0;32m    243\u001b[0m     \u001b[38;5;28;01mraise\u001b[39;00m \u001b[38;5;167;01mValueError\u001b[39;00m(\u001b[38;5;124m\"\u001b[39m\u001b[38;5;124mKnots must be in a non-decreasing order.\u001b[39m\u001b[38;5;124m\"\u001b[39m)\n",
      "\u001b[1;31mValueError\u001b[0m: Need at least 6 knots for degree 2"
     ]
    }
   ],
   "source": [
    "import numpy as np\n",
    "import matplotlib.pyplot as plt\n",
    "from scipy.interpolate import CubicSpline\n",
    "from scipy.interpolate import BSpline\n",
    "\n",
    "# Create data points for interpolation\n",
    "x = np.array([0, 1, 2, 3])\n",
    "y = np.array([0, 1, 0, 1])\n",
    "\n",
    "# Generate the cubic spline for two cases:\n",
    "# 1. Spline with natural boundary conditions (second derivative zero at the endpoints)\n",
    "cs_smooth = CubicSpline(x, y, bc_type='natural')\n",
    "\n",
    "# 2. Spline without second derivative continuity (forcing the second derivative at knots to be unequal)\n",
    "# We simulate this by forcing an unnatural boundary condition (adjusting the spline manually)\n",
    "cs_kink = CubicSpline(x, y, bc_type='not-a-knot')\n",
    "\n",
    "bspline = BSpline(x, y, k=2)\n",
    "\n",
    "# Generate x values for smooth plotting\n",
    "x_plot = np.linspace(0, 3, 100)\n",
    "\n",
    "# Plot both splines\n",
    "plt.figure(figsize=(10, 6))\n",
    "\n",
    "# Plot the smooth spline\n",
    "plt.plot(x_plot, cs_smooth(x_plot), label='Smooth Spline (2nd derivative continuous)', color='blue', linewidth=2)\n",
    "\n",
    "# Plot the kinked spline\n",
    "plt.plot(x_plot, cs_kink(x_plot), label='Spline with Kinks (2nd derivative not continuous)', color='red', linestyle='--', linewidth=2)\n",
    "\n",
    "# Plot the kinked spline\n",
    "plt.plot(x_plot, bspline(x_plot), label='Spline with Kinks (2nd derivative not continuous)', color='green', linestyle='-.', linewidth=2)\n",
    "\n",
    "\n",
    "# Add points\n",
    "plt.scatter(x, y, color='black', zorder=5)\n",
    "plt.title('Spline Interpolation: Smooth vs. Kinked')\n",
    "plt.xlabel('x')\n",
    "plt.ylabel('y')\n",
    "plt.legend()\n",
    "plt.grid(True)\n",
    "plt.show()\n"
   ]
  }
 ],
 "metadata": {
  "kernelspec": {
   "display_name": "Python 3",
   "language": "python",
   "name": "python3"
  },
  "language_info": {
   "codemirror_mode": {
    "name": "ipython",
    "version": 3
   },
   "file_extension": ".py",
   "mimetype": "text/x-python",
   "name": "python",
   "nbconvert_exporter": "python",
   "pygments_lexer": "ipython3",
   "version": "3.13.1"
  }
 },
 "nbformat": 4,
 "nbformat_minor": 2
}
