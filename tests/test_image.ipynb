{
 "cells": [
  {
   "cell_type": "code",
   "execution_count": 1,
   "metadata": {},
   "outputs": [],
   "source": [
    "# Tests for saturated pixel count based on total screen resolution\n",
    "import matplotlib.pyplot as plt\n",
    "from astrosceni.image import Image\n",
    "\n",
    "NB = Image()\n",
    "BB = Image()\n",
    "\n",
    "NB.load(\"data/bs_h_wcs.fit\")\n",
    "BB.load(\"data/bs_r_wcs.fit\")"
   ]
  },
  {
   "cell_type": "code",
   "execution_count": 2,
   "metadata": {},
   "outputs": [],
   "source": [
    "# Plot showing base image for comparison\n",
    "NB.cropPixels(x_start = 120, x_end = -120, y_start=80, y_end = -80)\n",
    "\n",
    "# Original = false since image has been cutout\n",
    "plt.imshow(NB.getImageData(original = False), origin='lower', cmap='gray')\n",
    "plt.title(\"Base image (Control)\")\n",
    "plt.show()"
   ]
  },
  {
   "cell_type": "code",
   "execution_count": 7,
   "metadata": {},
   "outputs": [],
   "source": [
    "#Testing zoom in\n",
    "NB.zoomToPoint(x = 1000, y = 400, zoom_size = 50, custom_cmap = \"turbo\", setSaturatedToNan = True)"
   ]
  },
  {
   "cell_type": "code",
   "execution_count": null,
   "metadata": {},
   "outputs": [],
   "source": []
  }
 ],
 "metadata": {
  "kernelspec": {
   "display_name": "Python 3 (ipykernel)",
   "language": "python",
   "name": "python3"
  }
 },
 "nbformat": 4,
 "nbformat_minor": 2
}
