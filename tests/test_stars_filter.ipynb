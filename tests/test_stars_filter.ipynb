{
 "cells": [
  {
   "cell_type": "code",
   "execution_count": null,
   "metadata": {},
   "outputs": [],
   "source": [
    "from astropy.io import fits \n",
    "from astropy.wcs import WCS\n",
    "from astropy.coordinates import SkyCoord\n",
    "from astropy.wcs.utils import proj_plane_pixel_scales, skycoord_to_pixel\n",
    "import numpy as np\n",
    "import matplotlib.pyplot as plt\n",
    "import pandas as pd\n",
    "from astroquery.vizier import Vizier\n",
    "\n",
    "from astrosceni.stars_filter import StarsFilter\n",
    "from astrosceni.contour import Contour\n",
    "from astrosceni.image import Image\n",
    "\n",
    "filter = StarsFilter()\n",
    "cont = Contour()\n",
    "NB = Image()\n",
    "\n",
    "# #Opens file and saves data to hdu\n",
    "# hdu = fits.open(\"data/rim_Ha_wcs.fits\")[0]\n",
    "# #Obtains header information here for testing\n",
    "# wcs = WCS(hdu.header)\n",
    "\n",
    "NB.load(\"data/rim_Ha_wcs.fits\")\n",
    "NB.cropPixels(x_start = 300, x_end=-300, y_start=300, y_end = -300)\n",
    "\n",
    "hdu = NB.getImageData(original = False)\n",
    "wcs = NB.getWCS()\n",
    "\n",
    "#Define the corners of the image\n",
    "corners = [\n",
    "    (0, 0),                # Bottom-left\n",
    "    (hdu.shape[1], 0),            # Bottom-right\n",
    "    (0, hdu.shape[0]),           # Top-left\n",
    "    (hdu.shape[1], hdu.shape[0])        # Top-right\n",
    "]\n",
    "\n",
    "#Decide the Ra and Dec range of the image\n",
    "raCorners, decCorners = wcs.pixel_to_world_values(*zip(*corners))\n",
    "print(\"Min Ra = \", min(raCorners))\n",
    "print(\"Max Ra = \", max(raCorners))\n",
    "print(\"Min Dec = \", min(decCorners))\n",
    "print(\"Max Dec = \", max(decCorners))"
   ]
  },
  {
   "cell_type": "code",
   "execution_count": 2,
   "metadata": {},
   "outputs": [],
   "source": [
    "#Testing the full range of the iamge\n",
    "filter.set_region(min(raCorners), max(raCorners), min(decCorners), max(decCorners))\n",
    "filter.set_visible_stars(NB)\n",
    "\n",
    "#Obtain the shortened list of stars from the catalogue and their corresponding x and y pixels\n",
    "filteredStars = filter.get_visible_stars()"
   ]
  },
  {
   "cell_type": "code",
   "execution_count": null,
   "metadata": {},
   "outputs": [],
   "source": [
    "print(filteredStars)\n",
    "print(filteredStars.shape)\n",
    "\n",
    "#Vmag is apparent magnitudes (magnitude in johnson)\n",
    "#Plx is the parallax, used to derive distance to star (miliarcseconds)"
   ]
  },
  {
   "cell_type": "code",
   "execution_count": null,
   "metadata": {},
   "outputs": [],
   "source": [
    "#Plot showing stars imaged onto image\n",
    "plt.imshow(hdu.data, origin='lower', cmap = 'gray')\n",
    "plt.scatter(filteredStars['x_pixels'], filteredStars['y_pixels'], s=1, color = 'red')\n",
    "plt.show()"
   ]
  },
  {
   "cell_type": "code",
   "execution_count": null,
   "metadata": {},
   "outputs": [],
   "source": [
    "#plot showing default image\n",
    "plt.imshow(hdu.data, origin='lower', cmap='gray')\n",
    "plt.show()"
   ]
  },
  {
   "cell_type": "code",
   "execution_count": null,
   "metadata": {},
   "outputs": [],
   "source": [
    "print(filteredStars.columns)"
   ]
  },
  {
   "cell_type": "code",
   "execution_count": null,
   "metadata": {},
   "outputs": [],
   "source": [
    "print(filter.get_abs_mag_limit())"
   ]
  },
  {
   "cell_type": "code",
   "execution_count": null,
   "metadata": {},
   "outputs": [],
   "source": [
    "print(hdu[200, 200])\n"
   ]
  },
  {
   "cell_type": "code",
   "execution_count": null,
   "metadata": {},
   "outputs": [],
   "source": [
    "NB = Image()\n",
    "NB.load(\"data/rim_Ha_wcs.fits\")\n",
    "hdu = NB.original_data\n",
    "wcs = NB.original_wcs\n",
    "print(hdu)\n",
    "print(wcs)"
   ]
  },
  {
   "cell_type": "code",
   "execution_count": null,
   "metadata": {},
   "outputs": [],
   "source": []
  }
 ],
 "metadata": {
  "kernelspec": {
   "display_name": "Python 3 (ipykernel)",
   "language": "python",
   "name": "python3"
  },
  "language_info": {
   "codemirror_mode": {
    "name": "ipython",
    "version": 3
   },
   "file_extension": ".py",
   "mimetype": "text/x-python",
   "name": "python",
   "nbconvert_exporter": "python",
   "pygments_lexer": "ipython3",
   "version": "3.10.12"
  }
 },
 "nbformat": 4,
 "nbformat_minor": 2
}
