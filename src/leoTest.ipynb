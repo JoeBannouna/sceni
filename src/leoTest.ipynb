{
 "cells": [
  {
   "cell_type": "code",
   "execution_count": 1,
   "metadata": {},
   "outputs": [
    {
     "name": "stderr",
     "output_type": "stream",
     "text": [
      "WARNING: FITSFixedWarning: 'datfix' made the change 'Set MJD-OBS to 59846.552361 from DATE-OBS'. [astropy.wcs.wcs]\n"
     ]
    }
   ],
   "source": [
    "from astropy.io import fits \n",
    "from astropy.wcs import WCS\n",
    "from astropy.coordinates import SkyCoord\n",
    "from astropy.wcs.utils import proj_plane_pixel_scales, skycoord_to_pixel\n",
    "import numpy as np\n",
    "import matplotlib.pyplot as plt\n",
    "import pandas as pd\n",
    "from astroquery.vizier import Vizier\n",
    "\n",
    "from src.stars_filter import StarsFilter\n",
    "from src.contour import Contour\n",
    "\n",
    "filter = StarsFilter()\n",
    "cont = Contour()\n",
    "\n",
    "#Opens file and saves data to hdu\n",
    "hdu = fits.open(\"data/rim_Ha_wcs.fits\")[0]\n",
    "#Obtains header information here for testing\n",
    "wcs = WCS(hdu.header)\n",
    "\n",
    "#Define the corners of the image\n",
    "corners = [\n",
    "    (0, 0),                # Bottom-left\n",
    "    (hdu.shape[1], 0),            # Bottom-right\n",
    "    (0, hdu.shape[0]),           # Top-left\n",
    "    (hdu.shape[1], hdu.shape[0])        # Top-right\n",
    "]\n",
    "\n",
    "#Decide the Ra and Dec range of the image\n",
    "raCorners, decCorners = wcs.pixel_to_world_values(*zip(*corners))"
   ]
  },
  {
   "cell_type": "code",
   "execution_count": 2,
   "metadata": {},
   "outputs": [
    {
     "ename": "TypeError",
     "evalue": "'PrimaryHDU' object is not subscriptable",
     "output_type": "error",
     "traceback": [
      "\u001b[0;31m---------------------------------------------------------------------------\u001b[0m",
      "\u001b[0;31mTypeError\u001b[0m                                 Traceback (most recent call last)",
      "Cell \u001b[0;32mIn[2], line 3\u001b[0m\n\u001b[1;32m      1\u001b[0m \u001b[38;5;66;03m#Testing the full range of the iamge\u001b[39;00m\n\u001b[1;32m      2\u001b[0m \u001b[38;5;28mfilter\u001b[39m\u001b[38;5;241m.\u001b[39mset_region(\u001b[38;5;28mmin\u001b[39m(raCorners), \u001b[38;5;28mmax\u001b[39m(raCorners), \u001b[38;5;28mmin\u001b[39m(decCorners), \u001b[38;5;28mmax\u001b[39m(decCorners))\n\u001b[0;32m----> 3\u001b[0m \u001b[38;5;28;43mfilter\u001b[39;49m\u001b[38;5;241;43m.\u001b[39;49m\u001b[43mset_visible_stars\u001b[49m\u001b[43m(\u001b[49m\u001b[43mhdu\u001b[49m\u001b[43m)\u001b[49m\n\u001b[1;32m      5\u001b[0m \u001b[38;5;66;03m#Obtain the shortened list of stars from the catalogue and their corresponding x and y pixels\u001b[39;00m\n\u001b[1;32m      6\u001b[0m filteredStars \u001b[38;5;241m=\u001b[39m \u001b[38;5;28mfilter\u001b[39m\u001b[38;5;241m.\u001b[39mget_visible_stars()\n",
      "File \u001b[0;32m~/researchprojectgitrepo/sceni/src/stars_filter.py:99\u001b[0m, in \u001b[0;36mStarsFilter.set_visible_stars\u001b[0;34m(self, image)\u001b[0m\n\u001b[1;32m     97\u001b[0m \u001b[38;5;66;03m#Determine mathematically if stars are visible on the image by comparing surrounding pixel\u001b[39;00m\n\u001b[1;32m     98\u001b[0m \u001b[38;5;28;01mfor\u001b[39;00m i \u001b[38;5;129;01min\u001b[39;00m \u001b[38;5;28mrange\u001b[39m(\u001b[38;5;241m0\u001b[39m, catalog_df\u001b[38;5;241m.\u001b[39mshape[\u001b[38;5;241m0\u001b[39m]):\n\u001b[0;32m---> 99\u001b[0m     star_pixel_counts \u001b[38;5;241m=\u001b[39m \u001b[43mimage\u001b[49m\u001b[43m[\u001b[49m\u001b[43mcatalog_df\u001b[49m\u001b[38;5;241;43m.\u001b[39;49m\u001b[43miloc\u001b[49m\u001b[43m[\u001b[49m\u001b[43mcatalog_df\u001b[49m\u001b[38;5;241;43m.\u001b[39;49m\u001b[43mcolumns\u001b[49m\u001b[38;5;241;43m.\u001b[39;49m\u001b[43mget_loc\u001b[49m\u001b[43m(\u001b[49m\u001b[38;5;124;43m'\u001b[39;49m\u001b[38;5;124;43mx_pixels\u001b[39;49m\u001b[38;5;124;43m'\u001b[39;49m\u001b[43m)\u001b[49m\u001b[43m,\u001b[49m\u001b[43m \u001b[49m\u001b[43mi\u001b[49m\u001b[43m]\u001b[49m\u001b[43m]\u001b[49m[catalog_df\u001b[38;5;241m.\u001b[39miloc[catalog_df\u001b[38;5;241m.\u001b[39mcolumns\u001b[38;5;241m.\u001b[39mget_loc(\u001b[38;5;124m'\u001b[39m\u001b[38;5;124my_pixels\u001b[39m\u001b[38;5;124m'\u001b[39m), i]]\n\u001b[1;32m    100\u001b[0m     \u001b[38;5;28mprint\u001b[39m(star_pixel_counts)\n\u001b[1;32m    103\u001b[0m \u001b[38;5;28mself\u001b[39m\u001b[38;5;241m.\u001b[39mvisible_stars \u001b[38;5;241m=\u001b[39m catalog_df\n",
      "\u001b[0;31mTypeError\u001b[0m: 'PrimaryHDU' object is not subscriptable"
     ]
    }
   ],
   "source": [
    "#Testing the full range of the iamge\n",
    "filter.set_region(min(raCorners), max(raCorners), min(decCorners), max(decCorners))\n",
    "filter.set_visible_stars(hdu)\n",
    "\n",
    "#Obtain the shortened list of stars from the catalogue and their corresponding x and y pixels\n",
    "filteredStars = filter.get_visible_stars()"
   ]
  },
  {
   "cell_type": "code",
   "execution_count": null,
   "metadata": {},
   "outputs": [],
   "source": [
    "print(filteredStars)\n",
    "print(filteredStars.shape)\n",
    "\n",
    "#Vmag is apparent magnitudes (magnitude in johnson)\n",
    "#Plx is the parallax, used to derive distance to star (miliarcseconds)"
   ]
  },
  {
   "cell_type": "code",
   "execution_count": null,
   "metadata": {},
   "outputs": [],
   "source": [
    "#Plot showing stars imaged onto image\n",
    "plt.imshow(hdu.data, origin='lower', cmap = 'gray')\n",
    "plt.scatter(filteredStars['x_pixels'], filteredStars['y_pixels'], s=1, color = 'red')\n",
    "plt.show()"
   ]
  },
  {
   "cell_type": "code",
   "execution_count": null,
   "metadata": {},
   "outputs": [],
   "source": [
    "#plot showing default image\n",
    "plt.imshow(hdu.data, origin='lower', cmap='gray')\n",
    "plt.show()"
   ]
  },
  {
   "cell_type": "code",
   "execution_count": null,
   "metadata": {},
   "outputs": [],
   "source": [
    "print(filteredStars.columns)"
   ]
  },
  {
   "cell_type": "code",
   "execution_count": null,
   "metadata": {},
   "outputs": [],
   "source": [
    "print(filter.get_abs_mag_limit())"
   ]
  },
  {
   "cell_type": "code",
   "execution_count": null,
   "metadata": {},
   "outputs": [],
   "source": [
    "print(hdu[200, 200])"
   ]
  }
 ],
 "metadata": {
  "kernelspec": {
   "display_name": "Python 3 (ipykernel)",
   "language": "python",
   "name": "python3"
  },
  "language_info": {
   "codemirror_mode": {
    "name": "ipython",
    "version": 3
   },
   "file_extension": ".py",
   "mimetype": "text/x-python",
   "name": "python",
   "nbconvert_exporter": "python",
   "pygments_lexer": "ipython3",
   "version": "3.10.12"
  }
 },
 "nbformat": 4,
 "nbformat_minor": 2
}
