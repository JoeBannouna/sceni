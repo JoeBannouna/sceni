{
 "cells": [
  {
   "cell_type": "code",
   "execution_count": null,
   "metadata": {},
   "outputs": [],
   "source": [
    "import astrosceni.image"
   ]
  },
  {
   "cell_type": "code",
   "execution_count": 17,
   "metadata": {},
   "outputs": [
    {
     "name": "stdout",
     "output_type": "stream",
     "text": [
      "[[ 135.  145.  142. ...  140.  133.  135.]\n",
      " [ 280.  276.  283. ...  546.  286.  135.]\n",
      " [ 706.  697.  700. ...  569.  272.  140.]\n",
      " ...\n",
      " [3434. 3423. 3453. ...  705.  421.  138.]\n",
      " [3464. 3478. 3504. ...  702.  423.  133.]\n",
      " [3593. 3581. 3495. ...  718.  412.  136.]]\n"
     ]
    }
   ],
   "source": [
    "img2 = Image()\n",
    "img2.load(\"data/rim_Ha_wcs.fits\")\n",
    "img2._printData()"
   ]
  },
  {
   "cell_type": "code",
   "execution_count": 19,
   "metadata": {},
   "outputs": [
    {
     "ename": "NameError",
     "evalue": "name 'image_header' is not defined",
     "output_type": "error",
     "traceback": [
      "\u001b[0;31m---------------------------------------------------------------------------\u001b[0m",
      "\u001b[0;31mNameError\u001b[0m                                 Traceback (most recent call last)",
      "Cell \u001b[0;32mIn[19], line 1\u001b[0m\n\u001b[0;32m----> 1\u001b[0m img2\u001b[38;5;241m.\u001b[39mplot()\n",
      "File \u001b[0;32m~/Desktop/code/summer-scholarship/paddy/astrosceni/image.py:50\u001b[0m, in \u001b[0;36mImage.plot\u001b[0;34m(self)\u001b[0m\n\u001b[1;32m     47\u001b[0m \u001b[38;5;28;01mdef\u001b[39;00m \u001b[38;5;21mplot\u001b[39m(\u001b[38;5;28mself\u001b[39m):\n\u001b[1;32m     48\u001b[0m   fig \u001b[38;5;241m=\u001b[39m plt\u001b[38;5;241m.\u001b[39mfigure()\n\u001b[0;32m---> 50\u001b[0m   wcs \u001b[38;5;241m=\u001b[39m WCS(image_header)\n\u001b[1;32m     51\u001b[0m   ax \u001b[38;5;241m=\u001b[39m WCSAxes(fig, [\u001b[38;5;241m0\u001b[39m, \u001b[38;5;241m0\u001b[39m, \u001b[38;5;241m1\u001b[39m, \u001b[38;5;241m1\u001b[39m], wcs\u001b[38;5;241m=\u001b[39mwcs)\n\u001b[1;32m     52\u001b[0m   fig\u001b[38;5;241m.\u001b[39madd_axes(ax)\n",
      "\u001b[0;31mNameError\u001b[0m: name 'image_header' is not defined"
     ]
    },
    {
     "data": {
      "text/plain": [
       "<Figure size 640x480 with 0 Axes>"
      ]
     },
     "metadata": {},
     "output_type": "display_data"
    }
   ],
   "source": [
    "img2.plot()"
   ]
  }
 ],
 "metadata": {
  "kernelspec": {
   "display_name": "Python 3 (ipykernel)",
   "language": "python",
   "name": "python3"
  },
  "language_info": {
   "codemirror_mode": {
    "name": "ipython",
    "version": 3
   },
   "file_extension": ".py",
   "mimetype": "text/x-python",
   "name": "python",
   "nbconvert_exporter": "python",
   "pygments_lexer": "ipython3",
   "version": "3.12.4"
  }
 },
 "nbformat": 4,
 "nbformat_minor": 2
}
